{
  "nbformat": 4,
  "nbformat_minor": 0,
  "metadata": {
    "colab": {
      "provenance": []
    },
    "kernelspec": {
      "name": "python3",
      "display_name": "Python 3"
    },
    "language_info": {
      "name": "python"
    }
  },
  "cells": [
    {
      "cell_type": "code",
      "source": [
        "import matplotlib.pyplot as plt\n",
        "import numpy as np"
      ],
      "metadata": {
        "id": "gMPhw-F0pJtO"
      },
      "execution_count": null,
      "outputs": []
    },
    {
      "cell_type": "code",
      "source": [
        "# Color mapping\n",
        "tile_colors = {\n",
        "    1: (1, 0, 0),    # Red for 1x1\n",
        "    2: (0, 0, 1),    # Blue for 2x2\n",
        "    3: (1, 1, 0),    # Yellow for 3x3\n",
        "    4: (0, 1, 0)     # Green for 4x4\n",
        "    }"
      ],
      "metadata": {
        "id": "PsBsBRfqrNw6"
      },
      "execution_count": null,
      "outputs": []
    },
    {
      "cell_type": "code",
      "source": [
        "def is_valid(grid, x, y, size):\n",
        "    #Check if a tile of 'size' can be placed at (x,y).\n",
        "    M, N = grid.shape\n",
        "    if x + size > M or y + size > N:\n",
        "        return False\n",
        "    for i in range(size):\n",
        "        for j in range(size):\n",
        "            if grid[x + i, y + j] != -1:\n",
        "                return False\n",
        "    return True"
      ],
      "metadata": {
        "id": "4XikkaBLvVi4"
      },
      "execution_count": null,
      "outputs": []
    },
    {
      "cell_type": "code",
      "source": [
        "def place_tile(grid, x, y, size):\n",
        "    #Place a tile of given size starting at (x,y).\n",
        "    for i in range(size):\n",
        "        for j in range(size):\n",
        "            grid[x + i, y + j] = size"
      ],
      "metadata": {
        "id": "asX1woyivVlQ"
      },
      "execution_count": null,
      "outputs": []
    },
    {
      "cell_type": "code",
      "source": [
        "def generate_spiral_coords(M, N):\n",
        "    #Generate coordinates in spiral order starting from center.\n",
        "    cx, cy = M // 2, N // 2\n",
        "    x, y = cx, cy\n",
        "    dx, dy = 0, -1\n",
        "    for _ in range(max(M, N)**2):\n",
        "        if 0 <= x < M and 0 <= y < N:\n",
        "            yield x, y\n",
        "        if (x == y) or (x < 0 and x == -y) or (x > 0 and x == 1-y):\n",
        "            dx, dy = -dy, dx\n",
        "        x, y = x + dx, y + dy"
      ],
      "metadata": {
        "id": "7V2waAgnvVnj"
      },
      "execution_count": null,
      "outputs": []
    },
    {
      "cell_type": "code",
      "source": [
        "def create_spiral_fill(M, N):\n",
        "    grid = np.full((M, N), -1, dtype=int)\n",
        "    tile_counts = {1: 0, 2: 0, 3: 0, 4: 0}\n",
        "    for x, y in generate_spiral_coords(M, N):\n",
        "        if grid[x, y] == -1:\n",
        "            for size in [4, 3, 2, 1]:\n",
        "                if is_valid(grid, x, y, size):\n",
        "                    place_tile(grid, x, y, size)\n",
        "                    tile_counts[size] += 1\n",
        "                    break\n",
        "    return grid, tile_counts"
      ],
      "metadata": {
        "id": "om6qYbCevVp0"
      },
      "execution_count": null,
      "outputs": []
    },
    {
      "cell_type": "code",
      "source": [
        "def visualize_room(grid, tile_counts):\n",
        "    M, N = grid.shape\n",
        "    fig, ax = plt.subplots()\n",
        "    for i in range(M):\n",
        "        for j in range(N):\n",
        "            val = grid[i, j]\n",
        "            if val != -1:\n",
        "                color = tile_colors[val]\n",
        "                rect = plt.Rectangle((j, M - 1 - i), 1, 1, facecolor=color, edgecolor='black')\n",
        "                ax.add_patch(rect)\n",
        "\n",
        "    ax.set_xlim(0, N)\n",
        "    ax.set_ylim(0, M)\n",
        "    ax.set_aspect('equal')\n",
        "    ax.set_xticks(np.arange(N) + 0.5, minor=True)\n",
        "    ax.set_yticks(np.arange(M) + 0.5, minor=True)\n",
        "    ax.grid(which=\"minor\", color=\"black\", linestyle='-', linewidth=0.5)\n",
        "    ax.tick_params(which=\"minor\", size=0)\n",
        "\n",
        "    plt.title(f\"Room Tiling (M={M}, N={N})\\n\"\n",
        "              f\"Tile Counts: 1x1={tile_counts[1]}, 2x2={tile_counts[2]}, 3x3={tile_counts[3]}, 4x4={tile_counts[4]}\")\n",
        "    plt.show()"
      ],
      "metadata": {
        "id": "SdQ7cN0fvVrn"
      },
      "execution_count": null,
      "outputs": []
    },
    {
      "cell_type": "code",
      "source": [
        "# Example usage\n",
        "M, N = 10, 15\n",
        "room_grid, tile_counts = create_spiral_fill(M, N)\n",
        "visualize_room(room_grid, tile_counts)"
      ],
      "metadata": {
        "colab": {
          "base_uri": "https://localhost:8080/",
          "height": 434
        },
        "id": "ONmEVEDwvVuz",
        "outputId": "56124cd8-8834-4bc4-dbdd-6cd43550729e"
      },
      "execution_count": 45,
      "outputs": [
        {
          "output_type": "display_data",
          "data": {
            "text/plain": [
              "<Figure size 640x480 with 1 Axes>"
            ],
            "image/png": "[encoded data removed]"
          },
          "metadata": {}
        }
      ]
    },
    {
      "cell_type": "code",
      "source": [],
      "metadata": {
        "id": "NJ72v3RstpXh"
      },
      "execution_count": null,
      "outputs": []
    }
  ]
}