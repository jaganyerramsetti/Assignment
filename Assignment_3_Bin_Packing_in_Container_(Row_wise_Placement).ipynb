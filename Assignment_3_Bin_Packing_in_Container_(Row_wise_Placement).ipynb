{
  "nbformat": 4,
  "nbformat_minor": 0,
  "metadata": {
    "colab": {
      "provenance": []
    },
    "kernelspec": {
      "name": "python3",
      "display_name": "Python 3"
    },
    "language_info": {
      "name": "python"
    }
  },
  "cells": [
    {
      "cell_type": "code",
      "execution_count": 8,
      "metadata": {
        "id": "O2dTaquwwVlN"
      },
      "outputs": [],
      "source": [
        "import matplotlib.pyplot as plt"
      ]
    },
    {
      "cell_type": "code",
      "source": [
        "def place_bins(container_width, container_height, bins):\n",
        "    placed_bins = {}\n",
        "    unplaced_bins = []\n",
        "    current_x, current_y = 0, 0   # start at bottom-left\n",
        "    row_height = 0\n",
        "\n",
        "    for bin_id, (width, height) in bins.items():\n",
        "        # Check if bin fits in current row\n",
        "        if current_x + width <= container_width and current_y + height <= container_height:\n",
        "            placed_bins[bin_id] = (current_x, current_y, width, height)\n",
        "            current_x += width\n",
        "            if height > row_height:\n",
        "                row_height = height\n",
        "        else:\n",
        "            # Move to next row (bottom → top)\n",
        "            current_x = 0\n",
        "            current_y += row_height\n",
        "            row_height = height\n",
        "            if current_y + height <= container_height and width <= container_width:\n",
        "                placed_bins[bin_id] = (current_x, current_y, width, height)\n",
        "                current_x += width\n",
        "            else:\n",
        "                unplaced_bins.append(bin_id)\n",
        "\n",
        "    return placed_bins, unplaced_bins"
      ],
      "metadata": {
        "id": "wB9DVIxO4qhX"
      },
      "execution_count": 9,
      "outputs": []
    },
    {
      "cell_type": "code",
      "source": [
        "def visualize_bins(container_width, container_height, placed_bins):\n",
        "    fig, ax = plt.subplots()\n",
        "    # Draw container outline\n",
        "    ax.add_patch(plt.Rectangle((0, 0), container_width, container_height, fill=None, edgecolor='blue', linewidth=2))\n",
        "\n",
        "    # Assign row-wise colors\n",
        "    row_colors = {}\n",
        "    color_palette = [\n",
        "        \"lightblue\", \"lightgreen\", \"lightcoral\", \"khaki\", \"plum\",\n",
        "        \"gold\", \"lightsalmon\", \"turquoise\", \"orchid\"\n",
        "    ]\n",
        "\n",
        "    for bin_id, (x, y, width, height) in placed_bins.items():\n",
        "        # Use row's y as key for color assignment\n",
        "        if y not in row_colors:\n",
        "            row_colors[y] = color_palette[len(row_colors) % len(color_palette)]\n",
        "        color = row_colors[y]\n",
        "\n",
        "        # Draw bin with row color\n",
        "        ax.add_patch(plt.Rectangle((x, y), width, height, facecolor=color, edgecolor=\"black\"))\n",
        "        ax.text(x + width/2, y + height/2, str(bin_id), ha='center', va='center', fontsize=10, color='black')\n",
        "\n",
        "    ax.set_xlim(0, container_width)\n",
        "    ax.set_ylim(0, container_height)\n",
        "    ax.set_aspect('equal')\n",
        "    plt.title(\"Container with Placed Bins\")\n",
        "    plt.show()"
      ],
      "metadata": {
        "id": "mDu8u2s64qkI"
      },
      "execution_count": 10,
      "outputs": []
    },
    {
      "cell_type": "code",
      "source": [
        "# Example usage\n",
        "if __name__ == \"__main__\":\n",
        "    # Container dimensions\n",
        "    W, H = 10, 5\n",
        "\n",
        "    # Bin data (width, height) with unique IDs\n",
        "    bins = {\n",
        "        1: (2, 1),\n",
        "        2: (1, 1),\n",
        "        3: (2, 1),\n",
        "        4: (1, 2),\n",
        "        5: (1, 1),\n",
        "        6: (1, 1),\n",
        "        7: (2, 1),\n",
        "        8: (3, 2)\n",
        "    }\n",
        "\n",
        "    placed, unplaced = place_bins(W, H, bins)\n",
        "    visualize_bins(W, H, placed)\n",
        "\n",
        "    print(\"Placed bin IDs:\", list(placed.keys()))\n",
        "    print(\"Unplaced bin IDs:\", unplaced)"
      ],
      "metadata": {
        "colab": {
          "base_uri": "https://localhost:8080/",
          "height": 366
        },
        "id": "7aL9i-XN4qm5",
        "outputId": "f3fe7135-d9b0-4015-a10b-ea259be7521f"
      },
      "execution_count": 11,
      "outputs": [
        {
          "output_type": "display_data",
          "data": {
            "text/plain": [
              "<Figure size 640x480 with 1 Axes>"
            ],
            "image/png": "[encoded data removed]"
          },
          "metadata": {}
        },
        {
          "output_type": "stream",
          "name": "stdout",
          "text": [
            "Placed bin IDs: [1, 2, 3, 4, 5, 6, 7, 8]\n",
            "Unplaced bin IDs: []\n"
          ]
        }
      ]
    },
    {
      "cell_type": "code",
      "source": [],
      "metadata": {
        "id": "CNQK9vlS4qpq"
      },
      "execution_count": 11,
      "outputs": []
    }
  ]
}